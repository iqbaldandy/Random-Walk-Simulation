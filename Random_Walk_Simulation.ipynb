{
  "nbformat": 4,
  "nbformat_minor": 0,
  "metadata": {
    "colab": {
      "name": "Random Walk Simulation.ipynb",
      "provenance": []
    },
    "kernelspec": {
      "name": "python3",
      "display_name": "Python 3"
    }
  },
  "cells": [
    {
      "cell_type": "code",
      "metadata": {
        "id": "0wGk06hm54iJ",
        "colab_type": "code",
        "colab": {}
      },
      "source": [
        "#Import\n",
        "import numpy as np\n",
        "from matplotlib import pyplot as plt\n",
        "import matplotlib.animation as animation"
      ],
      "execution_count": 0,
      "outputs": []
    },
    {
      "cell_type": "code",
      "metadata": {
        "id": "3iV9BTP9947z",
        "colab_type": "code",
        "colab": {}
      },
      "source": [
        "#Variable Initiation\n",
        "n_particle = 10 \n",
        "n_iter = 200\n",
        "x_min = 0\n",
        "x_max = 20\n",
        "y_min = 0\n",
        "y_max = 20\n",
        "x_range = x_max - x_min\n",
        "y_range = y_max - y_min"
      ],
      "execution_count": 0,
      "outputs": []
    },
    {
      "cell_type": "code",
      "metadata": {
        "id": "8T4gGlqa-K3G",
        "colab_type": "code",
        "colab": {}
      },
      "source": [
        "#Assign First Position of all particle\n",
        "pos_list = []\n",
        "for n in range(n_particle):\n",
        "  rand_x = np.random.uniform(x_min,x_max)\n",
        "  rand_y = np.random.uniform(y_min,y_max)\n",
        "  pos_list.append([(rand_x,rand_y)])"
      ],
      "execution_count": 0,
      "outputs": []
    },
    {
      "cell_type": "code",
      "metadata": {
        "id": "U4YjYeqY-asc",
        "colab_type": "code",
        "colab": {}
      },
      "source": [
        "#Position Update based on probability = 0.25\n",
        "def update_pos(rand,pos):\n",
        "  x,y = pos\n",
        "  #kanan\n",
        "  if rand <= 0.25:\n",
        "    x += 1\n",
        "  #bawah\n",
        "  elif rand <= 0.50:\n",
        "    y -= 1\n",
        "  #kiri\n",
        "  elif rand <= 0.75:\n",
        "    x -= 1\n",
        "  #atas\n",
        "  else:\n",
        "    y += 1\n",
        "  return x,y"
      ],
      "execution_count": 0,
      "outputs": []
    },
    {
      "cell_type": "code",
      "metadata": {
        "id": "5Dxkns6S-ndf",
        "colab_type": "code",
        "colab": {}
      },
      "source": [
        "#Limit the position so that it does not exceed x_max, x_min, y_max and y_min\n",
        "def pbc(x,y):\n",
        "  if x > x_max:\n",
        "    x -= x_range\n",
        "  if x < x_min:\n",
        "    x += x_range\n",
        "  if y > y_max:\n",
        "    y -= y_range\n",
        "  if y < y_min:\n",
        "    y += y_range\n",
        "  return x,y"
      ],
      "execution_count": 0,
      "outputs": []
    },
    {
      "cell_type": "code",
      "metadata": {
        "id": "w8NqBbOW-5Np",
        "colab_type": "code",
        "colab": {}
      },
      "source": [
        "#Iteration\n",
        "for i in range(n_iter-1):\n",
        "  for n in range(n_particle):\n",
        "    rand = np.random.rand()\n",
        "    new_x, new_y = update_pos(rand,pos_list[n][-1])\n",
        "    new_x, new_y = pbc(new_x,new_y)\n",
        "    pos_list[n].append((new_x,new_y))"
      ],
      "execution_count": 0,
      "outputs": []
    },
    {
      "cell_type": "code",
      "metadata": {
        "id": "HGCz0o11-8lt",
        "colab_type": "code",
        "colab": {}
      },
      "source": [
        "#Plot array Initiation for each particle\n",
        "x_pos = [a[0] for a in pos_list[0]]\n",
        "y_pos = [a[1] for a in pos_list[0]]\n",
        "x2_pos = [a[0] for a in pos_list[1]]\n",
        "y2_pos = [a[1] for a in pos_list[1]]\n",
        "x3_pos = [a[0] for a in pos_list[2]]\n",
        "y3_pos = [a[1] for a in pos_list[2]]\n",
        "x4_pos = [a[0] for a in pos_list[3]]\n",
        "y4_pos = [a[1] for a in pos_list[3]]\n",
        "x5_pos = [a[0] for a in pos_list[4]]\n",
        "y5_pos = [a[1] for a in pos_list[4]]\n",
        "x6_pos = [a[0] for a in pos_list[5]]\n",
        "y6_pos = [a[1] for a in pos_list[5]]\n",
        "x7_pos = [a[0] for a in pos_list[6]]\n",
        "y7_pos = [a[1] for a in pos_list[6]]\n",
        "x8_pos = [a[0] for a in pos_list[7]]\n",
        "y8_pos = [a[1] for a in pos_list[7]]\n",
        "x9_pos = [a[0] for a in pos_list[8]]\n",
        "y9_pos = [a[1] for a in pos_list[8]]\n",
        "x10_pos = [a[0] for a in pos_list[9]]\n",
        "y10_pos = [a[1] for a in pos_list[9]]"
      ],
      "execution_count": 0,
      "outputs": []
    },
    {
      "cell_type": "code",
      "metadata": {
        "id": "KC7KNjWCAMKC",
        "colab_type": "code",
        "colab": {
          "base_uri": "https://localhost:8080/",
          "height": 295
        },
        "outputId": "3f69e104-d398-43ce-fd93-66a1e320e9db"
      },
      "source": [
        "#Plot\n",
        "fig, ax = plt.subplots()\n",
        "x, y = [],[]\n",
        "x2, y2 = [],[]\n",
        "x3, y3 = [],[]\n",
        "x4, y4 = [],[]\n",
        "x5, y5 = [],[]\n",
        "x6, y6 = [],[]\n",
        "x7, y7 = [],[]\n",
        "x8, y8 = [],[]\n",
        "x9, y9 = [],[]\n",
        "x10, y10 = [],[]\n",
        "\n",
        "a, b = [],[]\n",
        "a2, b2 = [],[]\n",
        "a3, b3 = [],[]\n",
        "a4, b4 = [],[]\n",
        "a5, b5 = [],[]\n",
        "a6, b6 = [],[]\n",
        "a7, b7 = [],[]\n",
        "a8, b8 = [],[]\n",
        "a9, b9 = [],[]\n",
        "a10, b10 = [],[]\n",
        "\n",
        "pointer1 = ax.scatter([],[], c = 'blue', marker = '^')\n",
        "pointer2 = ax.scatter([],[], c ='green', marker = '8')\n",
        "pointer3 = ax.scatter([],[], c = 'red', marker = 's')\n",
        "pointer4 = ax.scatter([],[], c = 'magenta', marker = 'P')\n",
        "pointer5 = ax.scatter([],[], c = 'black', marker = '*')\n",
        "pointer6 = ax.scatter([],[], c = 'gold', marker = 'D')\n",
        "pointer7 = ax.scatter([],[], c = 'cyan', marker = 'h')\n",
        "pointer8 = ax.scatter([],[], c = 'saddlebrown', marker = 'X')\n",
        "pointer9 = ax.scatter([],[], c = 'navy', marker = 'v')\n",
        "pointer10 = ax.scatter([],[], c = 'dimgray', marker = 'o')\n",
        "\n",
        "line1, = ax.plot([],[],'blue')\n",
        "line2, = ax.plot([],[],'green')\n",
        "line3, = ax.plot([],[],'red')\n",
        "line4, = ax.plot([],[],'magenta')\n",
        "line5, = ax.plot([],[],'black')\n",
        "line6, = ax.plot([],[],'gold')\n",
        "line7, = ax.plot([],[],'cyan')\n",
        "line8, = ax.plot([],[],'saddlebrown')\n",
        "line9, = ax.plot([],[],'navy')\n",
        "line10, = ax.plot([],[],'dimgray')\n",
        "\n",
        "plt.xlim(x_min-5,x_max+5)\n",
        "plt.ylim(y_min-5,x_max+5)\n",
        "plt.xlabel('x')\n",
        "plt.ylabel('y')\n",
        "plt.title('Random Walk (probability = 0.25, particle = 10)')\n",
        "\n",
        "#Animate function\n",
        "def animate(i):\n",
        "\n",
        "    a.append(x_pos[i])\n",
        "    b.append(y_pos[i])\n",
        "    line.set_data(a,b)\n",
        "    x.append(x_pos[i])\n",
        "    y.append(y_pos[i])\n",
        "    pointer1.set_offsets(np.c_[x,y])\n",
        "    x.pop()\n",
        "    y.pop()\n",
        "\n",
        "    a2.append(x2_pos[i])\n",
        "    b2.append(y2_pos[i])\n",
        "    line2.set_data(a2,b2)\n",
        "    x2.append(x2_pos[i])\n",
        "    y2.append(y2_pos[i])\n",
        "    pointer2.set_offsets(np.c_[x2,y2])\n",
        "    x2.pop()\n",
        "    y2.pop()\n",
        "\n",
        "    a3.append(x3_pos[i])\n",
        "    b3.append(y3_pos[i])\n",
        "    line3.set_data(a3,b3)\n",
        "    x3.append(x3_pos[i])\n",
        "    y3.append(y3_pos[i])\n",
        "    pointer3.set_offsets(np.c_[x3,y3])\n",
        "    x3.pop()\n",
        "    y3.pop()\n",
        "    \n",
        "    a4.append(x4_pos[i])\n",
        "    b4.append(y4_pos[i])\n",
        "    line4.set_data(a4,b4)\n",
        "    x4.append(x4_pos[i])\n",
        "    y4.append(y4_pos[i])\n",
        "    pointer4.set_offsets(np.c_[x4,y4])\n",
        "    x4.pop()\n",
        "    y4.pop()\n",
        "\n",
        "    a5.append(x5_pos[i])\n",
        "    b5.append(y5_pos[i])\n",
        "    line5.set_data(a5,b5)\n",
        "    x5.append(x5_pos[i])\n",
        "    y5.append(y5_pos[i])\n",
        "    pointer5.set_offsets(np.c_[x5,y5])\n",
        "    x5.pop()\n",
        "    y5.pop()\n",
        "\n",
        "    a6.append(x6_pos[i])\n",
        "    b6.append(y6_pos[i])\n",
        "    line6.set_data(a6,b6)\n",
        "    x6.append(x6_pos[i])\n",
        "    y6.append(y6_pos[i])\n",
        "    pointer6.set_offsets(np.c_[x6,y6])\n",
        "    x6.pop()\n",
        "    y6.pop()\n",
        "\n",
        "    a7.append(x7_pos[i])\n",
        "    b7.append(y7_pos[i])\n",
        "    line7.set_data(a7,b7)\n",
        "    x7.append(x7_pos[i])\n",
        "    y7.append(y7_pos[i])\n",
        "    pointer7.set_offsets(np.c_[x7,y7])\n",
        "    x7.pop()\n",
        "    y7.pop()\n",
        "\n",
        "    a8.append(x8_pos[i])\n",
        "    b8.append(y8_pos[i])\n",
        "    line8.set_data(a8,b8)\n",
        "    x8.append(x8_pos[i])\n",
        "    y8.append(y8_pos[i])\n",
        "    pointer8.set_offsets(np.c_[x8,y8])\n",
        "    x8.pop()\n",
        "    y8.pop()\n",
        "\n",
        "    a9.append(x9_pos[i])\n",
        "    b9.append(y9_pos[i])\n",
        "    line9.set_data(a9,b9)\n",
        "    x9.append(x9_pos[i])\n",
        "    y9.append(y9_pos[i])\n",
        "    pointer9.set_offsets(np.c_[x9,y9])\n",
        "    x9.pop()\n",
        "    y9.pop()\n",
        "\n",
        "    a10.append(x10_pos[i])\n",
        "    b10.append(y10_pos[i])\n",
        "    line10.set_data(a10,b10)\n",
        "    x10.append(x10_pos[i])\n",
        "    y10.append(y10_pos[i])\n",
        "    pointer10.set_offsets(np.c_[x10,y10])\n",
        "    x10.pop()\n",
        "    y10.pop()\n",
        "\n",
        "#Show     \n",
        "ani = animation.FuncAnimation(fig, animate, frames=100, interval=100, repeat=False) \n",
        "plt.show()"
      ],
      "execution_count": 11,
      "outputs": [
        {
          "output_type": "display_data",
          "data": {
            "image/png": "[encoded data removed]",
            "text/plain": [
              "<Figure size 432x288 with 1 Axes>"
            ]
          },
          "metadata": {
            "tags": [],
            "needs_background": "light"
          }
        }
      ]
    },
    {
      "cell_type": "code",
      "metadata": {
        "id": "LMqmCOTXAXxy",
        "colab_type": "code",
        "colab": {}
      },
      "source": [
        "#Save animation into gif file\n",
        "f = \"Random_Walk_Animation.gif\" \n",
        "writergif = animation.PillowWriter(fps=10) \n",
        "ani.save(f, writer=writergif)"
      ],
      "execution_count": 0,
      "outputs": []
    },
    {
      "cell_type": "code",
      "metadata": {
        "id": "n8YE__2_AamI",
        "colab_type": "code",
        "colab": {}
      },
      "source": [
        ""
      ],
      "execution_count": 0,
      "outputs": []
    }
  ]
}